{
 "cells": [
  {
   "cell_type": "markdown",
   "id": "4bb5c8a2-8576-433d-915d-a9a9ba16ba55",
   "metadata": {},
   "source": [
    "---\n",
    "title: 'Лабораторна робота №10. Рядки. Методи рядків і списків. Винятки. Частина ІІ'\n",
    "description:\n",
    "   Документ зроблено за допомогою [Quarto](https://quarto.org/)\n",
    "author: \"&copy; [<span style='color: black;'> Мардєєва Діана </span>]), 2024\"\n",
    "date: \"02.12.2024\"\n",
    "lang: ukr\n",
    "format:\n",
    "  html:\n",
    "    code-fold: true\n",
    "    toc: true # меню\n",
    "    toc_float: # спливаюче меню  \n",
    "      collapsed: true # авто\n",
    "      number_sections: true\n",
    "jupyter: python3\n",
    "---"
   ]
  },
  {
   "cell_type": "markdown",
   "id": "744b0923-afeb-467b-9a5d-4a829f163390",
   "metadata": {},
   "source": [
    "__Мета:__ _навчитися обробляти рядки за допомогою спеціальних функцій і методів._"
   ]
  },
  {
   "cell_type": "markdown",
   "id": "b49cb1b4-a8ab-4049-9be3-af0800649aff",
   "metadata": {},
   "source": [
    "## Основні методи та функції для обробки рядків"
   ]
  },
  {
   "cell_type": "markdown",
   "id": "ecfb1159-8d0c-4f0c-ae62-5ba0f3f8b7d0",
   "metadata": {},
   "source": [
    "## Основні методи для обробки рядків\n",
    "- 'capitalize()' – замінює всі мали букви на великі;\n",
    "- 'center()' – центрує рядок всередині поля відомої довжини;\n",
    "- 'count()' – рахує кількість входжень даного символу в рядку;\n",
    "- 'join()' – з’єднує всі елементи кортежу/списку в один рядок;\n",
    "- 'lower()' – перетворює всі літери рядка на малі;\n",
    "- 'lstrip()' – видаляє білі символи з початку рядка;\n",
    "- 'replace()' – замінює задану підрядок іншим;\n",
    "- 'rfind()' – знаходить підрядок, пошук починається з кінця рядка;\n",
    "- 'rstrip()' – видаляє білі символи з кінця рядка;\n",
    "- 'split()' – розбиває рядок на підрядки з використанням заданого роздільника;\n",
    "- 'trip()' – видаляє білі символи з початку і кінця рядка;\n",
    "- 'swapcase()' – змінює регістр літер на протилежний (малі на великі і навпаки);\n",
    "- 'title()' – робить першу літеру в кожному слові великою;\n",
    "- 'upper()' – перетворює всі літери рядка на великі.\n"
   ]
  },
  {
   "cell_type": "markdown",
   "id": "038896e5-d1f8-4199-afc7-5cbd3046a89c",
   "metadata": {},
   "source": [
    "## Аналіз вмісту рядків"
   ]
  },
  {
   "cell_type": "markdown",
   "id": "bd02ee75-8de7-4277-9935-3c4e8425d7d6",
   "metadata": {},
   "source": [
    "Содержимое строки можна визначити за допомогою наступних методів (вони повертають логічні значення):\n",
    "\n",
    "- 'endswith()' - закінчується рядок заданою підстрокою?\n",
    "- 'isalnum()' - складається рядок лише з букв і цифр?\n",
    "- 'isalpha()' - складається рядок лише з букв?\n",
    "- 'islower()' - складається рядок лише з малих літер?\n",
    "- 'isspace()' - складається рядок лише з пробільних символів?\n",
    "- 'isupper()' - складається рядок лише з великих літер?\n",
    "- 'startswith()' - починається рядок з даної підстроки?"
   ]
  },
  {
   "cell_type": "markdown",
   "id": "f2e1bc87-6e94-4e3e-b86e-a4dea80c2c9d",
   "metadata": {},
   "source": [
    "### Приклад 1"
   ]
  },
  {
   "cell_type": "markdown",
   "id": "09d2d93d-4d20-44e4-b406-b438eba85e8d",
   "metadata": {},
   "source": [
    "Ви знаєте, що таке паліндром?\n",
    "\n",
    "Це слово, яке виглядає однаково під час читання вперед і назад. Наприклад, “козак” - це паліндром, а “лояльний” - ні.\n",
    "\n",
    "Ваше завдання - написати програму, яка:\n",
    "\n",
    "- запитує у користувача текст;\n",
    "- перевіряє, чи є введений текст паліндромом, і друкує результат.\n",
    "Примітка:\n",
    "\n",
    "- припустимо, що порожній рядок не є паліндромом;\n",
    "- великі та малі літери обробляються як однакові;\n",
    "- прогалини не враховуються під час перевірки - розглядайте їх як неіснуючі;\n",
    "- правильних рішень більш ніж кілька – спробуйте знайти більше одного.\n",
    "Протестуйте свій код, використовуючи надані нами дані."
   ]
  },
  {
   "cell_type": "code",
   "execution_count": null,
   "id": "fc9dd3ef-5797-4482-b829-d95176f76d72",
   "metadata": {},
   "outputs": [],
   "source": [
    "def is_palindrome(text):\n",
    "    filtered_text = ''.join(char.lower() for char in text if char.isalnum())\n",
    "    return filtered_text == filtered_text[::-1]\n",
    "\n",
    "text = input(\"Введіть слово або фразу для перевірки на паліндромність: \")\n",
    "if is_palindrome(text):\n",
    "    print(\"Так, це паліндром!\")\n",
    "else:\n",
    "    print(\"Ні, це не паліндром.\")\n"
   ]
  },
  {
   "cell_type": "code",
   "execution_count": null,
   "id": "2ea0b460-ce39-47d6-8660-21c1415c576a",
   "metadata": {},
   "outputs": [],
   "source": [
    "Введіть слово або фразу для перевірки на паліндромність: >? \"А роза упала на лапу Азора\"\n",
    "Так, це паліндром!"
   ]
  },
  {
   "cell_type": "markdown",
   "id": "37395564-5ef9-438a-8d52-43fe9f0b21e6",
   "metadata": {},
   "source": [
    "### Приклад 2"
   ]
  },
  {
   "cell_type": "markdown",
   "id": "accdfa9c-bfc2-40ca-a84d-9e3700c0d1a1",
   "metadata": {},
   "source": [
    "Анаграма – це нове слово, сформоване шляхом перестановки букв слова, використовуючи всі оригінальні букви рівно один раз. Наприклад, слова “Актёр” та “тёрка” є анаграмами, а “я є” і “ви є” – ні.\n",
    "\n",
    "Ваше завдання – написати програму, яка:\n",
    "\n",
    "- запитує у користувача два окремі тексти;\n",
    "- перевіряє, чи введені тексти є анаграмами, і виводить результат.\n",
    "Примітка:\n",
    "\n",
    "- припустимо, що два порожні рядки не є анаграмами;\n",
    "- великі та малі літери обробляються як однакові;\n",
    "- прогалини не враховуються під час перевірки - трактуйте їх як неіснуючі.\n",
    "Протестуйте свій код, використовуючи надані нами дані."
   ]
  },
  {
   "cell_type": "code",
   "execution_count": null,
   "id": "56ccbbba-90c9-413e-a6a9-395d1862dde8",
   "metadata": {},
   "outputs": [],
   "source": [
    "def are_anagrams(text1, text2):\n",
    "    filtered_text1 = ''.join(char.lower() for char in text1 if char.isalnum())\n",
    "    filtered_text2 = ''.join(char.lower() for char in text2 if char.isalnum())\n",
    "    return sorted(filtered_text1) == sorted(filtered_text2)\n",
    "\n",
    "text1 = input(\"Введіть перше слово або фразу для перевірки на анаграмність: \")\n",
    "text2 = input(\"Введіть друге слово або фразу для перевірки на анаграмність: \")\n",
    "\n",
    "if are_anagrams(text1, text2):\n",
    "    print(\"Введені тексти є анаграмами!\")\n",
    "else:\n",
    "    print(\"Введені тексти не є анаграмами.\")"
   ]
  },
  {
   "cell_type": "code",
   "execution_count": null,
   "id": "d7963e25-acb2-421b-b1bc-eb527228de29",
   "metadata": {},
   "outputs": [],
   "source": [
    "Введіть перше слово або фразу для перевірки на анаграмність: >? Listen\n",
    "Введіть друге слово або фразу для перевірки на анаграмність: >? Silent\n",
    "Введені тексти є анаграмами!"
   ]
  },
  {
   "cell_type": "markdown",
   "id": "50e68bfb-797a-4733-a1d6-06f897a882f8",
   "metadata": {},
   "source": [
    "### Приклад 3"
   ]
  },
  {
   "cell_type": "markdown",
   "id": "6dd7c733-71e5-42e5-a454-5d3475904dff",
   "metadata": {},
   "source": [
    "Дехто каже, що Цифра життя – це цифра, обчислена з використанням чийогось дня народження. Все просто – потрібно просто скласти всі цифри дати. Якщо результат містить більше однієї цифри, Ви повинні повторювати додавання, доки не отримаєте одну цифру. Наприклад:\n",
    "\n",
    "1 January 2017 = 2017 01 01 2 + 0 + 1 + 7 + 0 + 1 + 0 + 1 = 12 1 + 2 = 3 3 - цифра, яку ми шукали та знайшли.\n",
    "\n",
    "Ваше завдання - написати програму, яка:\n",
    "\n",
    "запитує користувача про його/її день народження (у форматі РРРГММДД, або РРРРДДММ, або ММДДРРРР - фактично порядок цифр не має значення); виводить цифру життя для дати. Протестуйте свій код, використовуючи надані нами дані."
   ]
  },
  {
   "cell_type": "code",
   "execution_count": null,
   "id": "2484f50a-79bb-4bbd-8d9b-73d297840a01",
   "metadata": {},
   "outputs": [],
   "source": [
    "#Task3\n",
    "def calculate_life_number(birth_date):\n",
    "    life_number = sum(int(digit) for digit in birth_date if digit.isdigit())\n",
    "    while life_number > 9:\n",
    "        life_number = sum(int(digit) for digit in str(life_number))\n",
    "    return life_number\n",
    "\n",
    "birth_date = input(\"Введіть свою дату народження у форматі РРРРММДД або ММДДРРРР або ДДММРРРР тощо: \")\n",
    "life_number = calculate_life_number(birth_date)\n",
    "print(\"Ваша цифра життя:\", life_number)\n"
   ]
  },
  {
   "cell_type": "code",
   "execution_count": null,
   "id": "813ce0e9-3636-4c0c-93d1-b2d6381c3b8d",
   "metadata": {},
   "outputs": [],
   "source": [
    "Введіть свою дату народження у форматі РРРРММДД або ММДДРРРР або ДДММРРРР тощо: >? 20041024\n",
    "Ваша цифра життя: 4"
   ]
  },
  {
   "cell_type": "markdown",
   "id": "ee9af689-b1f8-4897-a77c-61548b828c5c",
   "metadata": {},
   "source": [
    "###Завдання 1"
   ]
  },
  {
   "cell_type": "markdown",
   "id": "c7284265-568d-4c2f-a2d3-e84f8b5d7520",
   "metadata": {},
   "source": [
    "Давайте зіграємо у гру. Ми дамо Вам два рядки: один - слово (наприклад, “dog”), а другий - комбінація будь-яких символів.\n",
    "\n",
    "Ваше завдання – написати програму, яка відповість на наступне запитання: символи, що становлять перший рядок, приховані всередині другого рядка?\n",
    "\n",
    "Наприклад:\n",
    "\n",
    "якщо другий рядок заданий як “vcxzxduybfdsobywuefgas”, відповідь 'Yes'; якщо другий рядок “vcxzxdcybfdstbywuefsas”, відповідь 'No' (бо немає букв “d”, “o” або “g” у цьому порядку).\n",
    "\n",
    "Підказка:\n",
    "\n",
    "Ви повинні використовувати варіанти з двома аргументами функцій 'find()' всередині коду; не турбуйтеся про чутливість до регістру. Протестуйте свій код, використовуючи надані нами дані."
   ]
  },
  {
   "cell_type": "code",
   "execution_count": null,
   "id": "1857c5cd-30c4-48e1-87d0-9c57f4bce295",
   "metadata": {},
   "outputs": [],
   "source": [
    "def are_characters_hidden(first, second):\n",
    "    index = 0\n",
    "    for char in first:\n",
    "        index = second.find(char, index)\n",
    "        if index == -1:\n",
    "            return \"Ні, тут немає ваших заданих символів\"\n",
    "        index += 1\n",
    "    return \"Так, символи знайдено\"\n",
    "\n",
    "first_string = input(\"Введіть перший рядок: \").strip()\n",
    "second_string = input(\"Введіть другий рядок: \").strip()\n",
    "result = are_characters_hidden(first_string, second_string)\n",
    "print(result)"
   ]
  },
  {
   "cell_type": "code",
   "execution_count": null,
   "id": "31afdc29-9482-4bac-8275-78afc5e42b2b",
   "metadata": {},
   "outputs": [],
   "source": [
    "Введіть перший рядок: >? abc\n",
    "Введіть другий рядок: >? aabbcc\n",
    "Так, символи знайдено"
   ]
  },
  {
   "cell_type": "markdown",
   "id": "ff792b57-29aa-4a50-a2e2-a154e9869f74",
   "metadata": {},
   "source": [
    "## Обробка винятків"
   ]
  },
  {
   "cell_type": "markdown",
   "id": "05ed52c0-d28e-4fbb-8372-7796a4a66a92",
   "metadata": {},
   "source": [
    "### Приклад 4"
   ]
  },
  {
   "cell_type": "markdown",
   "id": "13e575e7-a655-4bbf-9076-fc6582557f15",
   "metadata": {},
   "source": [
    "Можна “ловити” і обробляти винятки в Python за допомогою 'try-except' блоку. Отже, якщо у є підозра, що будь-який конкретний шматок коду може викликати виняток, можна написати код, який коректно оброблятиме його і не припинить виконання програми:"
   ]
  },
  {
   "cell_type": "code",
   "execution_count": null,
   "id": "afd80ef6-6b36-43da-8d56-1c716a43cbf0",
   "metadata": {},
   "outputs": [],
   "source": [
    "while True:\n",
    "    try:\n",
    "        number = int(input(\"Введіть ціле число: \"))\n",
    "        print(number / 2)\n",
    "        break\n",
    "    except:\n",
    "        print(\"Введене значення не є допустимим числом. Повторіть спробу...\")"
   ]
  },
  {
   "cell_type": "code",
   "execution_count": null,
   "id": "0ec79e17-a484-40f2-96bd-7b65f6b99a57",
   "metadata": {},
   "outputs": [],
   "source": [
    "Введіть ціле число: >? abc\n",
    "Введене значення не є допустимим числом. Повторіть спробу...\n",
    "Введіть ціле число: >? 123\n",
    "61.5"
   ]
  },
  {
   "cell_type": "markdown",
   "id": "a874c8eb-e833-4579-ad91-aa2f44df8a47",
   "metadata": {},
   "source": [
    "### Завдання 2"
   ]
  },
  {
   "cell_type": "markdown",
   "id": "5856e185-9e64-4aed-97e5-160c0ff733ce",
   "metadata": {},
   "source": [
    "Модифікувати код з Прикладу 3 таким чином, щоби виняток, який виникає при введені, оброблявся і забезпечував функціонування програми."
   ]
  },
  {
   "cell_type": "code",
   "execution_count": null,
   "id": "995d378d-b6f6-41ce-ab6e-86d72fc6ba5d",
   "metadata": {},
   "outputs": [],
   "source": [
    "def calculate_life_number(date_str):\n",
    "    while len(date_str) > 1:\n",
    "        date_str = str(sum(int(char) for char in date_str))\n",
    "    return int(date_str)\n",
    "\n",
    "try:\n",
    "    birth_date = input(\"Введіть свою дату народження у форматі РРРРММДД або ММДДРРРР або ДДММРРРР тощо, але на цей раз з помилкою: \").strip()\n",
    "    if not birth_date.isdigit():\n",
    "        raise ValueError(\"Дата народження має містити тільки цифри.\")\n",
    "    life_number = calculate_life_number(birth_date)\n",
    "    print(f\"Ваша цифра життя: {life_number}\")\n",
    "except ValueError as e:\n",
    "    print(\"Введені дані не є коректними для обчислення.\")"
   ]
  },
  {
   "cell_type": "code",
   "execution_count": null,
   "id": "c0284a09-afd3-4079-96ff-0fe83eb8a3a8",
   "metadata": {},
   "outputs": [],
   "source": [
    "Введіть свою дату народження у форматі РРРРММДД або ММДДРРРР або ДДММРРРР тощо, але на цей раз з помилкою: >? 2004abc24\n",
    "Введені дані не є коректними для обчислення."
   ]
  },
  {
   "cell_type": "markdown",
   "id": "2b07680a-ede0-45f2-b465-2a58a997950c",
   "metadata": {},
   "source": [
    "### Завдання 3"
   ]
  },
  {
   "cell_type": "markdown",
   "id": "6ab6cbae-2941-44ff-a9e9-82a4de3a2264",
   "metadata": {},
   "source": [
    "Ваше завдання – написати функцію, здатну набувати цілочисельних значень і перевіряти, чи знаходяться вони в зазначеному діапазоні.\n",
    "\n",
    "Функція повинна:\n",
    "\n",
    "- прийняти три аргументи: запит на введення даних, допустимі верхній та нижній межі;\n",
    "- якщо користувач вводить рядок, який не є цілим числом, функція повинна видати повідомлення Error: wrong input і попросити користувача ввести значення знову;\n",
    "- якщо користувач вводить число, яке виходить за межі вказаного діапазону, функція повинна видати повідомлення Error: the value is not within permitted range (min..max) і попросити користувача знову ввести значення;\n",
    "- якщо вхідне значення допустиме, поверніть його як результат."
   ]
  },
  {
   "cell_type": "code",
   "execution_count": null,
   "id": "789b9885-29b9-4115-9fc1-9c89d9b4618f",
   "metadata": {},
   "outputs": [],
   "source": [
    "def get_int(prompt):\n",
    "    while True:\n",
    "        try:\n",
    "            return int(input(prompt))\n",
    "        except ValueError:\n",
    "            print(\"Error: wrong input\")\n",
    "\n",
    "def get_input_in_range():\n",
    "    lower_limit = get_int(\"Введіть нижню межу: \")\n",
    "    upper_limit = get_int(\"Введіть верхню межу: \")\n",
    "    if lower_limit >= upper_limit:\n",
    "        print(\"Помилка: нижня межа має бути меншою або дорівнювати верхній.\")\n",
    "        return get_input_in_range()\n",
    "    while True:\n",
    "        try:\n",
    "            value = int(input(f\"Введіть ціле число між {lower_limit} та {upper_limit}: \"))\n",
    "            if lower_limit <= value <= upper_limit:\n",
    "                return value\n",
    "            else:\n",
    "                print(f\"Помилка: введене число виходить за межі ({lower_limit}..{upper_limit})\")\n",
    "        except ValueError:\n",
    "            print(\"Помилка введення\")\n",
    "\n",
    "result = get_input_in_range()\n",
    "print(f\"Дякуємо, що ввели коректне число: {result}\")\n"
   ]
  },
  {
   "cell_type": "code",
   "execution_count": null,
   "id": "6660d7f8-94c2-4a99-8af9-3c9b68970f9a",
   "metadata": {},
   "outputs": [],
   "source": [
    "Введіть нижню межу: >? 10\n",
    "Введіть верхню межу: >? 20\n",
    "Введіть ціле число між 10 та 20: >? 25\n",
    "Помилка: введене число виходить за межі (10..20)\n",
    "Введіть ціле число між 10 та 20: >? 15\n",
    "Дякуємо, що ввели коректне число: 15"
   ]
  },
  {
   "cell_type": "markdown",
   "id": "6a70cc46-0d02-4497-8323-104e09c323f0",
   "metadata": {},
   "source": [
    "## Контрольні запитання"
   ]
  },
  {
   "cell_type": "markdown",
   "id": "e817ada3-b661-462b-9a70-963f10f59b13",
   "metadata": {},
   "source": [
    "1. Який очікуваний вивід наступного коду?"
   ]
  },
  {
   "cell_type": "code",
   "execution_count": null,
   "id": "3c3ae497-ac95-49b8-816a-5031b2fe8e1f",
   "metadata": {},
   "outputs": [],
   "source": [
    "try:\n",
    "    print(\"Let`s try to do this\")\n",
    "    print(\"#\" [2])\n",
    "    print(\"We succeeded!\")\n",
    "except:\n",
    "    print(\"We failed\")\n",
    "print(\"We`re done\")"
   ]
  },
  {
   "cell_type": "code",
   "execution_count": null,
   "id": "aa18edd7-c05d-4cfb-a8e7-76d2e3d2cdc3",
   "metadata": {},
   "outputs": [],
   "source": [
    "Let`s try to do this\n",
    "We failed\n",
    "We`re done"
   ]
  },
  {
   "cell_type": "markdown",
   "id": "f7a46044-69fb-4158-824d-190f9b9774ca",
   "metadata": {},
   "source": [
    "2. Який очікуваний результат наступного коду?"
   ]
  },
  {
   "cell_type": "code",
   "execution_count": null,
   "id": "faad2e6e-4717-4577-bb4a-16cb15c1beb6",
   "metadata": {},
   "outputs": [],
   "source": [
    "try:\n",
    "    print(\"alpha\"[1/0])\n",
    "except ZeroDivisionError:\n",
    "    print(\"zero\")\n",
    "except IndexingError:\n",
    "    print(\"index\")\n",
    "except:\n",
    "    print(\"some\")"
   ]
  },
  {
   "cell_type": "code",
   "execution_count": null,
   "id": "ad5c8007-296f-436a-acc9-a03f9dfd7c96",
   "metadata": {},
   "outputs": [],
   "source": [
    "zero"
   ]
  },
  {
   "cell_type": "markdown",
   "id": "8063d970-7000-4919-836b-f209247b18dc",
   "metadata": {},
   "source": [
    "## References"
   ]
  },
  {
   "cell_type": "markdown",
   "id": "371834c9-cafd-49ac-b233-7d71898e3189",
   "metadata": {},
   "source": [
    "1. Методичні вказівки\n",
    "2. Лекції"
   ]
  }
 ],
 "metadata": {
  "kernelspec": {
   "display_name": "Python 3 (ipykernel)",
   "language": "python",
   "name": "python3"
  },
  "language_info": {
   "codemirror_mode": {
    "name": "ipython",
    "version": 3
   },
   "file_extension": ".py",
   "mimetype": "text/x-python",
   "name": "python",
   "nbconvert_exporter": "python",
   "pygments_lexer": "ipython3",
   "version": "3.12.4"
  }
 },
 "nbformat": 4,
 "nbformat_minor": 5
}
